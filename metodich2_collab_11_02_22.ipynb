{
  "nbformat": 4,
  "nbformat_minor": 0,
  "metadata": {
    "kernelspec": {
      "display_name": "Python 3",
      "language": "python",
      "name": "python3"
    },
    "language_info": {
      "codemirror_mode": {
        "name": "ipython",
        "version": 3
      },
      "file_extension": ".py",
      "mimetype": "text/x-python",
      "name": "python",
      "nbconvert_exporter": "python",
      "pygments_lexer": "ipython3",
      "version": "3.7.1"
    },
    "colab": {
      "name": "metodich2_collab.ipynb",
      "provenance": [],
      "collapsed_sections": [
        "NRSQbmXD9U98",
        "m2wW13WB9U99",
        "v6h1K5ET9U9_"
      ]
    },
    "accelerator": "GPU"
  },
  "cells": [
    {
      "cell_type": "markdown",
      "metadata": {
        "id": "XvhEhpGm9U8z"
      },
      "source": [
        "# Введение в искусственные нейронные сети\n",
        "# Урок 2. Keras"
      ]
    },
    {
      "cell_type": "markdown",
      "metadata": {
        "id": "LmKjkEH-9U84"
      },
      "source": [
        "## Содержание методического пособия:\n",
        "\n",
        "\n",
        "<ol>\n",
        "<li>Способы создания нейросетей</li>\n",
        "<li>Что такое Keras</li>\n",
        "<li>Основы синтаксиса</li>\n",
        "<li>Простая нейросеть на Keras</li>\n",
        "</ol>"
      ]
    },
    {
      "cell_type": "markdown",
      "metadata": {
        "id": "9gV6aaON9U86"
      },
      "source": [
        "## Способы создания нейросетей\n",
        "\n",
        "Нейросети это математические модели. Программирую на любом языке можно решать задачи связанные с математикой. Однако встает вопрос какой язык подойдет для этого больше? Не считая учебных нейросетей, нейросети как правило работают с большим количеством данных. Поэтому, чтобы обучение нейросетей происходило с приемлимой скоростью нужно использовать быстрый язык. Например Си. Но так как язык Си это язык с низким уровнем абстракции то программировать и модифицировать на нем нейросети было бы крайне затруднительно. \n",
        "\n",
        "Хорошо может подойти для этих целей язык Python. Так как он с одной стороны имеет высокий уровень абстракции с другой стороны операции с массивами данных могут сделать его библиотеки написанные на Си. Таким способом мы пользовались на первых 2 уроках. Однако если писать нейросети таким образом то будет много повторяющегося кода поскольку архитектуры нейросетей остаются одинаковыми и зачастую у них только меняются параметры. Кроме этого нам может понадобиться хорошо знать архитектуры самых разных нейронных сетей чтобы реализовать их вручную. Работа таким образом затруднительна для людей не имеющих достаточной подготовки, а для имеющих может быть нааборот рутиной.\n",
        "\n",
        "Существуют фреймворки для созданий нейронных сетей. Они являются, пожалуй основным рабочим способом создания нейронных сетей. Вот их неполный перечень:\n",
        "\n",
        "1. TensorFlow\n",
        "2. PyTorch\n",
        "3. Keras\n",
        "4. Microsoft Cognitive Toolkit (CNTK)\n",
        "5. Caffe\n",
        "6. Apache MXNet\n",
        "\n",
        "Упрощение создания нейронных сетей не заканчивается на этих фрейворках. Существуют инструменты которые позволяют создавать нейронные сети без навыков программирования, строя нейросети графически. Примеры: Neural Designer, Deep Learning Studio.\n",
        "\n",
        "Но и на этом не заканчиваются способы создания нейросетей. Существуют инструменты самостоятельно создающие нейронные сети. Это так называемые AutoML инструменты. Вот примеры популярных из них:\n",
        "1. MLBox\n",
        "2. TPOT\n",
        "3. Autokeras\n",
        "\n",
        "Как вы возможно заметили что все эти инструменты отранжированы походы изложения в порядке возрастания уровня абстракции. Соответсвенно говоря о плюсах минусах того или иного инструмента мы должны понимать в принципе плюсы минусы повышения уровня абстракции. Чем он выше тем меньше производительность и тем меньше его гибкость и набоорот.\n",
        "\n",
        "Как уже было сказано наиболее востребованных в рабочих целях является тот уровень абстракции, который дают фреймворки. Будем изучать дальше и пользовать ими. Остается сделать выбор среди них. Самый популярный фреймворк для создания нейросетей TensorFlow. Самый популярный для обучения - Keras. На этом уроке мы изучим с вами Keras, а на следующим TensorFlow. Также стоит отметить, что эти фреймворки взаимосвязаны - Keras как правило работает поверх TensorFlow, а сам TensorFlow позволяет пользовать средствами Keras при необходимости.\n"
      ]
    },
    {
      "cell_type": "markdown",
      "metadata": {
        "id": "b1uUklH29U88"
      },
      "source": [
        "## Что такое Keras\n",
        "\n",
        "Keras появился относительно недавно - в 2015 г. Но за это время стал одним из самых популярных фреймоворков для создания нейросетей и фактически стандартом для использования его начинающими.\n",
        "\n",
        "В чем причина его популярности? Keras позволяет создовать на высоком уровне абстракции. Т.е. на не нужно вручную реализовать с помощью математикаподобного кода те или иные элементы нейронной сети. Мы можем оперировать слоями, количеством нейронов в них, выбором функции активации и т.д. В тоже время keras содержит инструментарий для всего того, что может понадобиться для работы - например ряд встроенных датасетов, возможность обрабатывать изображения.\n",
        "\n",
        "В техническом плане Keras это оболочка над инструментами меньшей степени абстракции. На выбор он может работать поверх TensorFlow, Microsoft Cognitive Toolkit, R, Theano, PlaidML.\n",
        "\n",
        "Keras пользуется также на соревнованиях Kaggle.\n",
        "\n",
        "Однако стоит отметить, что в реальных проектах чаще используется TensorFlow, который мы будем изучать в след. уроках.\n",
        "\n",
        "Keras как и любой высокобастрактный инструмент имеет изъяны в качестве меньшей гибкостью и производительснотью чем тот же tensorflow.\n",
        "\n",
        "Стоит также отметить, что Google официально поддерживает Keras, его автор François Chollet, является сотрудником Google. TensorFlow сам в свою очередь позволяет использовать возможности Keras, т.е. в нем заложена возможность переходить на более высокой уровень абстракции.\n",
        "\n",
        "В данном уроке мы с вами рассмотрим пример обучения нейронной сети с помощью Keras. Но прежде давайте посмотрим на основы синтаксиса Keras и стандартные задачи, которые нужно выполнить при обучении нейронной сети."
      ]
    },
    {
      "cell_type": "markdown",
      "metadata": {
        "id": "iRJ_I6hu9U8-"
      },
      "source": [
        "## Основы синтаксиса"
      ]
    },
    {
      "cell_type": "markdown",
      "metadata": {
        "id": "Sars-tTz9U9A"
      },
      "source": [
        "**Установка и работа с данными**"
      ]
    },
    {
      "cell_type": "markdown",
      "metadata": {
        "id": "8w3sHXOV9U9B"
      },
      "source": [
        "Для начала необходимо установить keras. Надо полагать вы хорошо знакомы с командой pip."
      ]
    },
    {
      "cell_type": "markdown",
      "metadata": {
        "id": "05hfRCv09U9D"
      },
      "source": [
        "sudo python3 pip install keras"
      ]
    },
    {
      "cell_type": "markdown",
      "metadata": {
        "id": "EAwWzAS29U9F"
      },
      "source": [
        "Давайте попробуем получить датасет mnist и проанализировать его содержимое.\n",
        "Это еще не будет синтаксис Keras, но это часто встречающаяся задача. Не обращайте внимание на предупреждения от TensorFlow. Их часто бывает много и их можно подавить при необходимости."
      ]
    },
    {
      "cell_type": "markdown",
      "metadata": {
        "id": "iKgNxL4G9U9H"
      },
      "source": [
        "    import numpy as np\n",
        "    import mnist\n",
        "    import keras\n",
        "\n",
        "    # The first time you run this might be a bit slow, since the\n",
        "    # mnist package has to download and cache the data.\n",
        "    train_images = mnist.train_images()\n",
        "    train_labels = mnist.train_labels()\n",
        "\n",
        "    print(train_images.shape) # (60000, 28, 28)\n",
        "    print(train_labels.shape) # (60000,)"
      ]
    },
    {
      "cell_type": "markdown",
      "metadata": {
        "id": "F_3tRtvg9U9J"
      },
      "source": [
        "Что в данном случае мы смогли с вами узнать? Что тренировочный датасет mnist состоит из 60000 изображений 28 на 28 пикселей. Такие небольшие датасеты с маленькими изображениями встретятся вам и в других учебных датасетах."
      ]
    },
    {
      "cell_type": "markdown",
      "metadata": {
        "id": "DZiKILQd9U9L"
      },
      "source": [
        "Что нам нужно делать теперь? Если датасет не имеет разделения на тренировочный и тестовый то поделить их. В нашем случае наш тренировочный датасет состоит из 60 000 изображений и тестовый из 10 000 и они поделены по умолчанию.\n",
        "\n",
        "Нам теперь нужно конверитировать значения пикселей из вида от 1 до 255 в набор значений от -0.5 до 0.5.\n",
        "\n"
      ]
    },
    {
      "cell_type": "code",
      "metadata": {
        "id": "TQMMZ_jw9U9N",
        "colab": {
          "base_uri": "https://localhost:8080/"
        },
        "outputId": "df6c26d1-fc36-4750-edbc-aaac9e7ec4a4"
      },
      "source": [
        "import numpy as np\n",
        "#import mnist\n",
        "#import tensorflow as tf\n",
        "#import tf.kears as keras\n",
        "import keras\n",
        "from keras.datasets import mnist, boston_housing, fashion_mnist  # наборы для работы\n",
        "\n",
        "#train_images = mnist.train_images()\n",
        "#train_labels = mnist.train_labels()\n",
        "#test_images = mnist.test_images()\n",
        "#test_labels = mnist.test_labels()\n",
        "\n",
        "(train_imagesi,train_labels),(test_imagesi,testn_labels)=mnist.load_data()\n",
        "\n",
        "# Normalize the images.\n",
        "train_imagesi = (train_imagesi / 127) - 1\n",
        "test_imagesi = (test_imagesi / 127) - 1\n",
        "\n",
        "# Flatten the images.\n",
        "train_images = train_imagesi.reshape((-1, 784))\n",
        "test_images = test_imagesi.reshape((-1, 784))\n",
        "\n",
        "print(train_images.shape) # (60000, 784)\n",
        "print(test_images.shape)  # (10000, 784)"
      ],
      "execution_count": 1,
      "outputs": [
        {
          "output_type": "stream",
          "name": "stdout",
          "text": [
            "Downloading data from https://storage.googleapis.com/tensorflow/tf-keras-datasets/mnist.npz\n",
            "11493376/11490434 [==============================] - 0s 0us/step\n",
            "11501568/11490434 [==============================] - 0s 0us/step\n",
            "(60000, 784)\n",
            "(10000, 784)\n"
          ]
        }
      ]
    },
    {
      "cell_type": "code",
      "source": [
        "n=1\n",
        "train_imagesi[n,:,:].shape"
      ],
      "metadata": {
        "colab": {
          "base_uri": "https://localhost:8080/"
        },
        "id": "haGKRAidX8XT",
        "outputId": "72b152a5-5adb-4070-ba75-009d97dd13d4"
      },
      "execution_count": 2,
      "outputs": [
        {
          "output_type": "execute_result",
          "data": {
            "text/plain": [
              "(28, 28)"
            ]
          },
          "metadata": {},
          "execution_count": 2
        }
      ]
    },
    {
      "cell_type": "code",
      "metadata": {
        "id": "3fwDFMMPJDFE",
        "colab": {
          "base_uri": "https://localhost:8080/",
          "height": 35
        },
        "outputId": "a620e8cd-05f5-4bad-ae0f-87411428d10b"
      },
      "source": [
        "keras.backend.backend()"
      ],
      "execution_count": 3,
      "outputs": [
        {
          "output_type": "execute_result",
          "data": {
            "application/vnd.google.colaboratory.intrinsic+json": {
              "type": "string"
            },
            "text/plain": [
              "'tensorflow'"
            ]
          },
          "metadata": {},
          "execution_count": 3
        }
      ]
    },
    {
      "cell_type": "code",
      "metadata": {
        "id": "Jp0WM1sS1DFX"
      },
      "source": [
        "import matplotlib.pyplot as plt"
      ],
      "execution_count": 4,
      "outputs": []
    },
    {
      "cell_type": "code",
      "metadata": {
        "colab": {
          "base_uri": "https://localhost:8080/",
          "height": 284
        },
        "id": "1GG9Z5HDEEWW",
        "outputId": "0ae1963e-8fdf-461e-95b9-ba50d9a13b17"
      },
      "source": [
        "n = 2005\n",
        "plt.imshow(train_imagesi[n,:,:])\n",
        "plt.show()\n",
        "print(train_labels[n])"
      ],
      "execution_count": 5,
      "outputs": [
        {
          "output_type": "display_data",
          "data": {
            "image/png": "[encoded data removed]",
            "text/plain": [
              "<Figure size 432x288 with 1 Axes>"
            ]
          },
          "metadata": {
            "needs_background": "light"
          }
        },
        {
          "output_type": "stream",
          "name": "stdout",
          "text": [
            "6\n"
          ]
        }
      ]
    },
    {
      "cell_type": "code",
      "metadata": {
        "colab": {
          "base_uri": "https://localhost:8080/"
        },
        "id": "t58_YKCl38rz",
        "outputId": "d65e8cf8-1b56-4f54-d59b-bcefe56ff421"
      },
      "source": [
        "train_labels[:12]"
      ],
      "execution_count": 6,
      "outputs": [
        {
          "output_type": "execute_result",
          "data": {
            "text/plain": [
              "array([5, 0, 4, 1, 9, 2, 1, 3, 1, 4, 3, 5], dtype=uint8)"
            ]
          },
          "metadata": {},
          "execution_count": 6
        }
      ]
    },
    {
      "cell_type": "code",
      "metadata": {
        "colab": {
          "base_uri": "https://localhost:8080/"
        },
        "id": "1_Ae7niGnjb6",
        "outputId": "7b1eae13-317d-428f-9184-4cf5f078db0d"
      },
      "source": [
        "train_images[202,150:160]"
      ],
      "execution_count": 7,
      "outputs": [
        {
          "output_type": "execute_result",
          "data": {
            "text/plain": [
              "array([-1.        , -1.        , -1.        , -1.        , -1.        ,\n",
              "       -0.90551181, -0.80314961, -0.80314961, -0.80314961, -0.80314961])"
            ]
          },
          "metadata": {},
          "execution_count": 7
        }
      ]
    },
    {
      "cell_type": "markdown",
      "metadata": {
        "id": "Y6btW5Oz9U9W"
      },
      "source": [
        "**Создание модели**"
      ]
    },
    {
      "cell_type": "markdown",
      "metadata": {
        "id": "jgVdsO619U9Y"
      },
      "source": [
        "После первичной подготовки данных дальше как правило следует создание модели нейронной сети, которая будет учиться на этих данных.\n",
        "\n",
        "Ниже типичный код учебной нейросети - "
      ]
    },
    {
      "cell_type": "markdown",
      "metadata": {
        "id": "rfu5k2FX9U9a"
      },
      "source": [
        "    # define the keras model\n",
        "    model = Sequential()\n",
        "    model.add(Dense(12, input_dim=8, activation='relu'))\n",
        "    model.add(Dense(8, activation='relu'))\n",
        "    model.add(Dense(1, activation='sigmoid'))"
      ]
    },
    {
      "cell_type": "markdown",
      "metadata": {
        "id": "lb6IkKpN9U9c"
      },
      "source": [
        "Давайте разберемся с теми командами, которые нам встетились в этом коде.\n",
        "\n",
        "Sequential - позволяет создать нейросети где слои имеют форму стека. Сигнал в них передается от одного слоя к другому. В противовес этой разновидности есть нейросети где сигнал может не сразу передаваться в следующий слой а попадать в цикл. Такие нейросети мы разберем в следующих уроках.\n",
        "\n",
        "Dense - позволяет каждому нейронну быть связанному с другим нейронном. В противовес этом может быть необходимость не делать так много связей. Неполносвязнные архитектуры мы также разберем на этом курсе, они основа компьютерного зрения.\n",
        "\n",
        "Цифры 12, 8, 1 обозначают количество нейронов в каждом конкретном слое\n",
        "\n",
        "Activation - позволяет определить формулу по которой будет активироваться нейрон."
      ]
    },
    {
      "cell_type": "markdown",
      "metadata": {
        "id": "iVWaIK2l9U9e"
      },
      "source": [
        "**Компиляция модели**\n",
        "\n",
        "На этапе компиляции модель с заданными параметрами ранее создается. Вот типичный учебный пример:"
      ]
    },
    {
      "cell_type": "markdown",
      "metadata": {
        "id": "B6m5CF1l9U9g"
      },
      "source": [
        "    \n",
        "    # создание keras модели\n",
        "    model.compile(loss='binary_crossentropy', optimizer='adam', metrics=['accuracy'])"
      ]
    },
    {
      "cell_type": "markdown",
      "metadata": {
        "id": "IDbetrHA9U9i"
      },
      "source": [
        "Однако на этой стадии мы должны сделать еще некоторые настройки нейронной сети. Разберем команды из кода выше.\n",
        "\n",
        "loss - позволяет задать формулы по которой будет определяться степень ошибки нейронной сети.\n",
        "\n",
        "optimizer - позволяет задать алгоритм, который будет осуществлять изменения весов по всей нейронной сети (backpropagation)\n",
        "\n",
        "metrics - позволяет опредилить кретирии по которым будет оцениваться степень обученности нейросети.\n",
        "    \n",
        "    "
      ]
    },
    {
      "cell_type": "markdown",
      "metadata": {
        "id": "KH-Cy6Iy9U9l"
      },
      "source": [
        "**Передача данных для обучения нейросети**\n",
        "\n",
        "После того как нейросеть создана можно передавать ей данные для обучения. Ниже типичный пример кода для этого.\n"
      ]
    },
    {
      "cell_type": "markdown",
      "metadata": {
        "id": "TweWbzvu9U9o"
      },
      "source": [
        "    # передача обучающего датасета keras модели\n",
        "    model.fit(X, y, epochs=150, batch_size=10, verbose=0)"
      ]
    },
    {
      "cell_type": "markdown",
      "metadata": {
        "id": "tFt0A6m59U9q"
      },
      "source": [
        "Разберем команды из этого примера.\n",
        "X, y - содержат все обучающие данные\n",
        "epochs - определяет сколько раз через нейросеть должен пройти весь набор данных\n",
        "bath_size - определяет количество обучающих примеров передающихся нейросети на каждой итерации обучения.\n",
        "verbose - позволяет определять информацию, котору вы видете во время обучения нейронной сети."
      ]
    },
    {
      "cell_type": "markdown",
      "metadata": {
        "id": "P7ERG-o79U9s"
      },
      "source": [
        "**Оценка обученности нейронной сети**\n",
        "\n",
        "Следующей стадией может быть проверка обученности нейронной сети. Команда Keras для этих целей - \n",
        "\n",
        "    results = model.evaluate(x_test, y_test, batch_size=128)\n",
        "    \n",
        "В данном случае мы просто указываем какую модель на каких данных мы хотим проверить"
      ]
    },
    {
      "cell_type": "markdown",
      "metadata": {
        "id": "UHT1j0AX9U9t"
      },
      "source": [
        "**Запуск нейронной сети для выполнения работы**\n",
        "\n",
        "На этой стадии мы можем попробовать запустить нейронную сеть на данных которые мы хотели бы чтобы она оценила. Осуществить распознования объекта на фотографии например.\n",
        "Вот код для этих целей - \n",
        "\n",
        "    predictions = model.predict(x_test[:3])\n",
        "    \n",
        "В качестве аргумента здесь указывается массив даныхх содержащих, например фотографию в виде массива чисел.    \n",
        "    "
      ]
    },
    {
      "cell_type": "markdown",
      "metadata": {
        "id": "LoL6FC9I9U9v"
      },
      "source": [
        "Мы с вами рассмотрели основные стадии процесса обучения нейросети и команды Keras, для этого. Безусловно здесь приведен далеко неполный перечень возможностей Keras. У Keras есть также возможность сохранять созданную нейросеть, запускать уже имеющиюся, различные средства для создания нейросетей разных архитектур и другое. С чем то из арсенала Keras мы с вами познакомимся по ходу курса, а с остальным вы можете познакомиться на сайте Keras в разделе документация."
      ]
    },
    {
      "cell_type": "markdown",
      "metadata": {
        "id": "jnUt9U3_9U9x"
      },
      "source": [
        "## Простая нейросеть на Keras"
      ]
    },
    {
      "cell_type": "markdown",
      "metadata": {
        "id": "SAa_Lfn89U9y"
      },
      "source": [
        "Давайте попрубуем сделать нейросеть на Keras использую полученные выше знания. Попробуем обучить нейросеть различать рукописные цифры."
      ]
    },
    {
      "cell_type": "code",
      "metadata": {
        "id": "hf6f_oe7EH7A"
      },
      "source": [
        "# Код нейронной сети в Keras!\n",
        "###############################\n",
        "import numpy as np\n",
        "#import mnist\n",
        "from keras.models import Sequential\n",
        "from keras.layers import Dense\n",
        "from keras.datasets import mnist\n",
        "from tensorflow.keras.utils import to_categorical\n",
        "\n"
      ],
      "execution_count": 8,
      "outputs": []
    },
    {
      "cell_type": "markdown",
      "metadata": {
        "id": "rlO6abtO0oFX"
      },
      "source": [
        "Размер набора входных данных для обучения "
      ]
    },
    {
      "cell_type": "code",
      "metadata": {
        "id": "XLsN2KNiNHEf",
        "colab": {
          "base_uri": "https://localhost:8080/"
        },
        "outputId": "3157614a-9845-44f5-eb9a-fb09095e578f"
      },
      "source": [
        "train_images.shape,test_images.shape"
      ],
      "execution_count": 9,
      "outputs": [
        {
          "output_type": "execute_result",
          "data": {
            "text/plain": [
              "((60000, 784), (10000, 784))"
            ]
          },
          "metadata": {},
          "execution_count": 9
        }
      ]
    },
    {
      "cell_type": "markdown",
      "metadata": {
        "id": "eHplAiIbpDLE"
      },
      "source": [
        "Собираем сеть по слоям через .add()"
      ]
    },
    {
      "cell_type": "code",
      "metadata": {
        "id": "b0-xDKrNHNrv"
      },
      "source": [
        "model1 = Sequential(name='my_model')\n",
        "model1.add(Dense(    128, activation='relu', input_shape=(784,)))  \n",
        "# входной слой + поносвязный слой из 128 нейронов с активацией ReLU\n",
        "for k in range(2):\n",
        "  model1.add(Dense(  10+(10-k)*10, activation='tanh')) \n",
        "  # Скрытый слой k из 10+(10-k)*10 нейронов с активацией tanh\n",
        "\n",
        "model1.add(Dense(10, activation='softmax')) \n",
        "# выходной слой из 10 нейронов (сколько классов, столько нейронов) + активация softmax"
      ],
      "execution_count": 10,
      "outputs": []
    },
    {
      "cell_type": "code",
      "metadata": {
        "id": "WjoJONokxO70"
      },
      "source": [
        "#keras.losses.SparseCategoricalCrossentropy().\n",
        "#keras.losses.categorical_crossentropy()\n",
        "# keras.metrics.accuracy"
      ],
      "execution_count": 11,
      "outputs": []
    },
    {
      "cell_type": "markdown",
      "metadata": {
        "id": "oZG48jgOpNmT"
      },
      "source": [
        "Компилируем сеть с оптимизатором , функцией потерь и метрикой:"
      ]
    },
    {
      "cell_type": "code",
      "metadata": {
        "id": "6pZ5taUWHke6"
      },
      "source": [
        "model1.compile(\n",
        "  optimizer='adam', # оптимизатор\n",
        "  loss=keras.losses.CategoricalCrossentropy(), # функция потерь\n",
        "  metrics=['accuracy'], # метрика\n",
        ") "
      ],
      "execution_count": 12,
      "outputs": []
    },
    {
      "cell_type": "markdown",
      "metadata": {
        "id": "d9Gi-C5ddKKL"
      },
      "source": [
        "Оптимизаторы:\n",
        "* SGD() (с или без моментум)\n",
        "* RMSprop()\n",
        "* Adam()\n",
        "* Adagrad()\n",
        "…\n",
        "\n",
        "Функции потерь:\n",
        "* CategoricalCrossentropy()\n",
        "* SparseCategoricalCrossentropy()\n",
        "* BinaryCrossentropy()\n",
        "* MeanSquaredError()\n",
        "* KLDivergence()\n",
        "* CosineSimilarity()\n",
        "…\n",
        "\n",
        "Метрики:\n",
        "* CategoricalAccuracy()\n",
        "* SparseCategoricalAccuracy()\n",
        "* BinaryAccuracy()\n",
        "* AUC()\n",
        "* Precision()\n",
        "* Recall()\n",
        "…"
      ]
    },
    {
      "cell_type": "markdown",
      "metadata": {
        "id": "kaOhpafIpZ5l"
      },
      "source": [
        "ПОсмотрим из чего она состоит:"
      ]
    },
    {
      "cell_type": "code",
      "metadata": {
        "colab": {
          "base_uri": "https://localhost:8080/"
        },
        "id": "MdAHcWIoE8rf",
        "outputId": "aff20409-c4cc-462c-fdba-3ed9cd0b26f4"
      },
      "source": [
        "model1.summary()"
      ],
      "execution_count": 13,
      "outputs": [
        {
          "output_type": "stream",
          "name": "stdout",
          "text": [
            "Model: \"my_model\"\n",
            "_________________________________________________________________\n",
            " Layer (type)                Output Shape              Param #   \n",
            "=================================================================\n",
            " dense (Dense)               (None, 128)               100480    \n",
            "                                                                 \n",
            " dense_1 (Dense)             (None, 110)               14190     \n",
            "                                                                 \n",
            " dense_2 (Dense)             (None, 100)               11100     \n",
            "                                                                 \n",
            " dense_3 (Dense)             (None, 10)                1010      \n",
            "                                                                 \n",
            "=================================================================\n",
            "Total params: 126,780\n",
            "Trainable params: 126,780\n",
            "Non-trainable params: 0\n",
            "_________________________________________________________________\n"
          ]
        }
      ]
    },
    {
      "cell_type": "markdown",
      "metadata": {
        "id": "i2YcWu0upeWi"
      },
      "source": [
        "126 780 параметров в сети. Все будем обучать.\n",
        "\n",
        "Как считать параметры слоя: (число входов нейрона +1)*число нейронов\n",
        "\n",
        "\n",
        "Например, для 5 входов и 10 нейронов в слое - число настраиваемых параметров = (5+1)*10 = 60"
      ]
    },
    {
      "cell_type": "markdown",
      "metadata": {
        "id": "f-drP8y5USej"
      },
      "source": [
        "Еще один способ создать линейную модель"
      ]
    },
    {
      "cell_type": "code",
      "metadata": {
        "id": "vT7VLh_SEcZS"
      },
      "source": [
        "\n",
        "# Build the model.\n",
        "model = Sequential([\n",
        "  Dense(128, activation='tanh', input_shape=(784,)),\n",
        "  Dense(110, activation='tanh'), # Скрытый слой из 110 нейронов с активацией tanh\n",
        "  Dense(100, activation='tanh'), # Скрытый слой k из 100 нейронов с активацией tanh\n",
        "  Dense(10, activation='softmax'),# выходной слой из 10 нейронов (сколько классов, столько нейронов) + активация softmax\n",
        "])\n",
        "\n",
        "# Compile the model.\n",
        "model.compile(\n",
        "  optimizer='adam',\n",
        "  loss='categorical_crossentropy',\n",
        "  metrics=['accuracy'],\n",
        ")"
      ],
      "execution_count": 14,
      "outputs": []
    },
    {
      "cell_type": "code",
      "metadata": {
        "id": "O5DOd_RAGZHQ",
        "colab": {
          "base_uri": "https://localhost:8080/"
        },
        "outputId": "80b06ed9-2f6a-4492-dfdc-72834efa620d"
      },
      "source": [
        "model.summary()"
      ],
      "execution_count": 15,
      "outputs": [
        {
          "output_type": "stream",
          "name": "stdout",
          "text": [
            "Model: \"sequential\"\n",
            "_________________________________________________________________\n",
            " Layer (type)                Output Shape              Param #   \n",
            "=================================================================\n",
            " dense_4 (Dense)             (None, 128)               100480    \n",
            "                                                                 \n",
            " dense_5 (Dense)             (None, 110)               14190     \n",
            "                                                                 \n",
            " dense_6 (Dense)             (None, 100)               11100     \n",
            "                                                                 \n",
            " dense_7 (Dense)             (None, 10)                1010      \n",
            "                                                                 \n",
            "=================================================================\n",
            "Total params: 126,780\n",
            "Trainable params: 126,780\n",
            "Non-trainable params: 0\n",
            "_________________________________________________________________\n"
          ]
        }
      ]
    },
    {
      "cell_type": "markdown",
      "metadata": {
        "id": "D-ZKLY37Ulq7"
      },
      "source": [
        "Можно подсмотреть как наша модель описана после ее создания"
      ]
    },
    {
      "cell_type": "code",
      "metadata": {
        "id": "p8zwmaHKzVUH",
        "colab": {
          "base_uri": "https://localhost:8080/"
        },
        "outputId": "2d9c68f2-e465-4bf5-996f-228b089d6204"
      },
      "source": [
        "model.get_config()"
      ],
      "execution_count": 16,
      "outputs": [
        {
          "output_type": "execute_result",
          "data": {
            "text/plain": [
              "{'layers': [{'class_name': 'InputLayer',\n",
              "   'config': {'batch_input_shape': (None, 784),\n",
              "    'dtype': 'float32',\n",
              "    'name': 'dense_4_input',\n",
              "    'ragged': False,\n",
              "    'sparse': False}},\n",
              "  {'class_name': 'Dense',\n",
              "   'config': {'activation': 'tanh',\n",
              "    'activity_regularizer': None,\n",
              "    'batch_input_shape': (None, 784),\n",
              "    'bias_constraint': None,\n",
              "    'bias_initializer': {'class_name': 'Zeros', 'config': {}},\n",
              "    'bias_regularizer': None,\n",
              "    'dtype': 'float32',\n",
              "    'kernel_constraint': None,\n",
              "    'kernel_initializer': {'class_name': 'GlorotUniform',\n",
              "     'config': {'seed': None}},\n",
              "    'kernel_regularizer': None,\n",
              "    'name': 'dense_4',\n",
              "    'trainable': True,\n",
              "    'units': 128,\n",
              "    'use_bias': True}},\n",
              "  {'class_name': 'Dense',\n",
              "   'config': {'activation': 'tanh',\n",
              "    'activity_regularizer': None,\n",
              "    'bias_constraint': None,\n",
              "    'bias_initializer': {'class_name': 'Zeros', 'config': {}},\n",
              "    'bias_regularizer': None,\n",
              "    'dtype': 'float32',\n",
              "    'kernel_constraint': None,\n",
              "    'kernel_initializer': {'class_name': 'GlorotUniform',\n",
              "     'config': {'seed': None}},\n",
              "    'kernel_regularizer': None,\n",
              "    'name': 'dense_5',\n",
              "    'trainable': True,\n",
              "    'units': 110,\n",
              "    'use_bias': True}},\n",
              "  {'class_name': 'Dense',\n",
              "   'config': {'activation': 'tanh',\n",
              "    'activity_regularizer': None,\n",
              "    'bias_constraint': None,\n",
              "    'bias_initializer': {'class_name': 'Zeros', 'config': {}},\n",
              "    'bias_regularizer': None,\n",
              "    'dtype': 'float32',\n",
              "    'kernel_constraint': None,\n",
              "    'kernel_initializer': {'class_name': 'GlorotUniform',\n",
              "     'config': {'seed': None}},\n",
              "    'kernel_regularizer': None,\n",
              "    'name': 'dense_6',\n",
              "    'trainable': True,\n",
              "    'units': 100,\n",
              "    'use_bias': True}},\n",
              "  {'class_name': 'Dense',\n",
              "   'config': {'activation': 'softmax',\n",
              "    'activity_regularizer': None,\n",
              "    'bias_constraint': None,\n",
              "    'bias_initializer': {'class_name': 'Zeros', 'config': {}},\n",
              "    'bias_regularizer': None,\n",
              "    'dtype': 'float32',\n",
              "    'kernel_constraint': None,\n",
              "    'kernel_initializer': {'class_name': 'GlorotUniform',\n",
              "     'config': {'seed': None}},\n",
              "    'kernel_regularizer': None,\n",
              "    'name': 'dense_7',\n",
              "    'trainable': True,\n",
              "    'units': 10,\n",
              "    'use_bias': True}}],\n",
              " 'name': 'sequential'}"
            ]
          },
          "metadata": {},
          "execution_count": 16
        }
      ]
    },
    {
      "cell_type": "markdown",
      "metadata": {
        "id": "Og3zBOXKUt6Q"
      },
      "source": [
        "Превратим выходы в векторые (OHE в keras - from keras.utils import to_categorical)"
      ]
    },
    {
      "cell_type": "code",
      "metadata": {
        "colab": {
          "base_uri": "https://localhost:8080/"
        },
        "id": "r4vfB93ZMa7k",
        "outputId": "35235d8c-4fdd-4adf-be83-59df7370ca42"
      },
      "source": [
        "train_labels[:5]"
      ],
      "execution_count": 17,
      "outputs": [
        {
          "output_type": "execute_result",
          "data": {
            "text/plain": [
              "array([5, 0, 4, 1, 9], dtype=uint8)"
            ]
          },
          "metadata": {},
          "execution_count": 17
        }
      ]
    },
    {
      "cell_type": "code",
      "metadata": {
        "id": "fXgYOrUwGwzG"
      },
      "source": [
        "y_t = to_categorical( train_labels)\n",
        "y_tt = to_categorical(testn_labels)"
      ],
      "execution_count": 20,
      "outputs": []
    },
    {
      "cell_type": "code",
      "metadata": {
        "colab": {
          "base_uri": "https://localhost:8080/"
        },
        "id": "HWKHT3kpG6yw",
        "outputId": "e1406ad9-bbc8-483e-8125-5b15ac357d01"
      },
      "source": [
        "y_t[:3,:]"
      ],
      "execution_count": 21,
      "outputs": [
        {
          "output_type": "execute_result",
          "data": {
            "text/plain": [
              "array([[0., 0., 0., 0., 0., 1., 0., 0., 0., 0.],\n",
              "       [1., 0., 0., 0., 0., 0., 0., 0., 0., 0.],\n",
              "       [0., 0., 0., 0., 1., 0., 0., 0., 0., 0.]], dtype=float32)"
            ]
          },
          "metadata": {},
          "execution_count": 21
        }
      ]
    },
    {
      "cell_type": "code",
      "metadata": {
        "colab": {
          "base_uri": "https://localhost:8080/"
        },
        "id": "13v9kMf5Ouq_",
        "outputId": "959053db-ea43-45c0-c4dd-e4502405e51e"
      },
      "source": [
        "train_labels[:5]"
      ],
      "execution_count": 22,
      "outputs": [
        {
          "output_type": "execute_result",
          "data": {
            "text/plain": [
              "array([5, 0, 4, 1, 9], dtype=uint8)"
            ]
          },
          "metadata": {},
          "execution_count": 22
        }
      ]
    },
    {
      "cell_type": "markdown",
      "metadata": {
        "id": "Xk1EavOKVBqI"
      },
      "source": [
        "Посмотрим на реакции модели до обучения - уже можно:)"
      ]
    },
    {
      "cell_type": "code",
      "metadata": {
        "id": "x6q31tJQLuol"
      },
      "source": [
        "y_pred = model.predict(test_images[:5,:])"
      ],
      "execution_count": 23,
      "outputs": []
    },
    {
      "cell_type": "code",
      "metadata": {
        "colab": {
          "base_uri": "https://localhost:8080/"
        },
        "id": "qM07Ce8IMKPh",
        "outputId": "5fe44466-6365-49fe-fe3f-9779d17699af"
      },
      "source": [
        "y_pred[0,:]"
      ],
      "execution_count": 24,
      "outputs": [
        {
          "output_type": "execute_result",
          "data": {
            "text/plain": [
              "array([0.03618059, 0.09345043, 0.14654428, 0.07426222, 0.09837215,\n",
              "       0.19263855, 0.16458498, 0.04454132, 0.05883563, 0.0905899 ],\n",
              "      dtype=float32)"
            ]
          },
          "metadata": {},
          "execution_count": 24
        }
      ]
    },
    {
      "cell_type": "code",
      "metadata": {
        "colab": {
          "base_uri": "https://localhost:8080/"
        },
        "id": "iFZ8fTdWL-2x",
        "outputId": "5185cf70-2985-4861-e4cd-d1eb46322075"
      },
      "source": [
        "y_class = np.argmax(y_pred, axis=1)\n",
        "print(y_class) # [7, 2, 1, 0, 4]"
      ],
      "execution_count": 25,
      "outputs": [
        {
          "output_type": "stream",
          "name": "stdout",
          "text": [
            "[5 5 5 5 3]\n"
          ]
        }
      ]
    },
    {
      "cell_type": "code",
      "metadata": {
        "colab": {
          "base_uri": "https://localhost:8080/",
          "height": 281
        },
        "id": "4XpTnd6bO2lt",
        "outputId": "f0011bde-7805-4711-d6a2-0c0b0f9bde3b"
      },
      "source": [
        "n = 1\n",
        "plt.imshow(test_imagesi[n,:,:])\n",
        "plt.title('цифра - '+str(y_class[n]))\n",
        "plt.show()"
      ],
      "execution_count": 26,
      "outputs": [
        {
          "output_type": "display_data",
          "data": {
            "image/png": "[encoded data removed]",
            "text/plain": [
              "<Figure size 432x288 with 1 Axes>"
            ]
          },
          "metadata": {
            "needs_background": "light"
          }
        }
      ]
    },
    {
      "cell_type": "markdown",
      "metadata": {
        "id": "emVGoAdNVSK-"
      },
      "source": [
        "Сделаем цикл тренировки модели"
      ]
    },
    {
      "cell_type": "code",
      "metadata": {
        "id": "9lCF4zXv9U90",
        "colab": {
          "base_uri": "https://localhost:8080/"
        },
        "outputId": "3b27b71d-b14c-4c5b-bb0f-144daa539a49"
      },
      "source": [
        "\n",
        "# Train the model.\n",
        "model1.fit(    \n",
        "  train_images[:,:],\n",
        "\n",
        "  y_t[:,:],\n",
        "  epochs=2,\n",
        "  batch_size=32, validation_split=0.2\n",
        ")\n",
        "\n",
        "# Evaluate the model.\n",
        "model1.evaluate( \n",
        "  test_images,\n",
        "  y_tt\n",
        ")\n",
        "\n",
        "# Predict on the first 5 test images.\n",
        "predictions = model.predict(test_images[:5])\n",
        "\n",
        "# Print our model's predictions.\n",
        "print(np.argmax(predictions, axis=1)) # [7, 2, 1, 0, 4]\n",
        "\n",
        "# Check our predictions against the ground truths.\n",
        "print(testn_labels[:5]) # [7, 2, 1, 0, 4]"
      ],
      "execution_count": 28,
      "outputs": [
        {
          "output_type": "stream",
          "name": "stdout",
          "text": [
            "Epoch 1/2\n",
            "1500/1500 [==============================] - 7s 5ms/step - loss: 0.1309 - accuracy: 0.9595 - val_loss: 0.1315 - val_accuracy: 0.9596\n",
            "Epoch 2/2\n",
            "1500/1500 [==============================] - 6s 4ms/step - loss: 0.1142 - accuracy: 0.9642 - val_loss: 0.1529 - val_accuracy: 0.9528\n",
            "313/313 [==============================] - 2s 7ms/step - loss: 0.1461 - accuracy: 0.9545\n",
            "[5 5 5 5 3]\n",
            "[7 2 1 0 4]\n"
          ]
        }
      ]
    },
    {
      "cell_type": "markdown",
      "metadata": {
        "id": "CUndBqeOVY1_"
      },
      "source": [
        "И можем еще один добавить (продолжаем от предществующего состояния)"
      ]
    },
    {
      "cell_type": "code",
      "metadata": {
        "colab": {
          "base_uri": "https://localhost:8080/"
        },
        "id": "z3Qc2u0mHfBJ",
        "outputId": "f95aefc9-b4aa-40a2-977f-11b578991574"
      },
      "source": [
        "model.fit(\n",
        "  train_images,\n",
        "  y_t,\n",
        "  epochs=15,\n",
        "  batch_size=1024, validation_split=0.2\n",
        ")"
      ],
      "execution_count": 29,
      "outputs": [
        {
          "output_type": "stream",
          "name": "stdout",
          "text": [
            "Epoch 1/15\n",
            "47/47 [==============================] - 1s 12ms/step - loss: 0.8239 - accuracy: 0.7735 - val_loss: 0.3313 - val_accuracy: 0.9042\n",
            "Epoch 2/15\n",
            "47/47 [==============================] - 0s 8ms/step - loss: 0.2967 - accuracy: 0.9119 - val_loss: 0.2374 - val_accuracy: 0.9312\n",
            "Epoch 3/15\n",
            "47/47 [==============================] - 0s 8ms/step - loss: 0.2246 - accuracy: 0.9333 - val_loss: 0.1987 - val_accuracy: 0.9438\n",
            "Epoch 4/15\n",
            "47/47 [==============================] - 0s 8ms/step - loss: 0.1815 - accuracy: 0.9466 - val_loss: 0.1653 - val_accuracy: 0.9517\n",
            "Epoch 5/15\n",
            "47/47 [==============================] - 0s 8ms/step - loss: 0.1481 - accuracy: 0.9562 - val_loss: 0.1484 - val_accuracy: 0.9575\n",
            "Epoch 6/15\n",
            "47/47 [==============================] - 0s 8ms/step - loss: 0.1272 - accuracy: 0.9621 - val_loss: 0.1338 - val_accuracy: 0.9622\n",
            "Epoch 7/15\n",
            "47/47 [==============================] - 0s 8ms/step - loss: 0.1070 - accuracy: 0.9687 - val_loss: 0.1275 - val_accuracy: 0.9620\n",
            "Epoch 8/15\n",
            "47/47 [==============================] - 0s 8ms/step - loss: 0.0943 - accuracy: 0.9725 - val_loss: 0.1187 - val_accuracy: 0.9663\n",
            "Epoch 9/15\n",
            "47/47 [==============================] - 0s 8ms/step - loss: 0.0809 - accuracy: 0.9769 - val_loss: 0.1147 - val_accuracy: 0.9656\n",
            "Epoch 10/15\n",
            "47/47 [==============================] - 0s 8ms/step - loss: 0.0722 - accuracy: 0.9793 - val_loss: 0.1105 - val_accuracy: 0.9647\n",
            "Epoch 11/15\n",
            "47/47 [==============================] - 0s 8ms/step - loss: 0.0647 - accuracy: 0.9809 - val_loss: 0.1169 - val_accuracy: 0.9652\n",
            "Epoch 12/15\n",
            "47/47 [==============================] - 0s 8ms/step - loss: 0.0580 - accuracy: 0.9840 - val_loss: 0.1021 - val_accuracy: 0.9694\n",
            "Epoch 13/15\n",
            "47/47 [==============================] - 0s 8ms/step - loss: 0.0509 - accuracy: 0.9854 - val_loss: 0.1053 - val_accuracy: 0.9700\n",
            "Epoch 14/15\n",
            "47/47 [==============================] - 0s 8ms/step - loss: 0.0453 - accuracy: 0.9872 - val_loss: 0.0933 - val_accuracy: 0.9735\n",
            "Epoch 15/15\n",
            "47/47 [==============================] - 0s 8ms/step - loss: 0.0399 - accuracy: 0.9889 - val_loss: 0.0966 - val_accuracy: 0.9712\n"
          ]
        },
        {
          "output_type": "execute_result",
          "data": {
            "text/plain": [
              "<keras.callbacks.History at 0x7f1d68384ed0>"
            ]
          },
          "metadata": {},
          "execution_count": 29
        }
      ]
    },
    {
      "cell_type": "markdown",
      "metadata": {
        "id": "EpxXh0NiVg8p"
      },
      "source": [
        "Сохраним модель на диск"
      ]
    },
    {
      "cell_type": "code",
      "metadata": {
        "id": "He1a5EemElpX"
      },
      "source": [
        "# сохранить веса модели.\n",
        "model.save_weights('model.h5')\n",
        "\n",
        "# загрузить веса модели:\n",
        "# model.load_weights('model.h5')\n"
      ],
      "execution_count": 30,
      "outputs": []
    },
    {
      "cell_type": "markdown",
      "metadata": {
        "id": "P5MHvkloVkqj"
      },
      "source": [
        "И еще тренируем (вторую модель)"
      ]
    },
    {
      "cell_type": "code",
      "metadata": {
        "id": "1koJ2ivjLOrO",
        "colab": {
          "base_uri": "https://localhost:8080/"
        },
        "outputId": "d7f19fd7-2c79-4715-b0d6-e0e732844ade"
      },
      "source": [
        "\n",
        "# Train the model. Вернем результаты по потерям и метрикам для всех эпох в hh \n",
        "hh = model1.fit( \n",
        "  train_images,\n",
        "  to_categorical(train_labels),\n",
        "  epochs=15,\n",
        "  batch_size=1024, validation_split=0.2\n",
        ")\n",
        "\n",
        "# Evaluate the model.\n",
        "model1.evaluate(\n",
        "  test_images,\n",
        "  to_categorical(testn_labels)\n",
        ")\n",
        "\n",
        "# Predict on the first 5 test images.\n",
        "predictions = model1.predict(test_images[:5])\n",
        "\n",
        "# Print our model's predictions.\n",
        "print(np.argmax(predictions, axis=1)) # [7, 2, 1, 0, 4]\n",
        "\n",
        "# Check our predictions against the ground truths.\n",
        "print(testn_labels[:5]) # [7, 2, 1, 0, 4]"
      ],
      "execution_count": 31,
      "outputs": [
        {
          "output_type": "stream",
          "name": "stdout",
          "text": [
            "Epoch 1/15\n",
            "47/47 [==============================] - 1s 10ms/step - loss: 0.0724 - accuracy: 0.9776 - val_loss: 0.0903 - val_accuracy: 0.9735\n",
            "Epoch 2/15\n",
            "47/47 [==============================] - 0s 8ms/step - loss: 0.0519 - accuracy: 0.9845 - val_loss: 0.0857 - val_accuracy: 0.9752\n",
            "Epoch 3/15\n",
            "47/47 [==============================] - 0s 8ms/step - loss: 0.0478 - accuracy: 0.9856 - val_loss: 0.0849 - val_accuracy: 0.9753\n",
            "Epoch 4/15\n",
            "47/47 [==============================] - 0s 8ms/step - loss: 0.0450 - accuracy: 0.9869 - val_loss: 0.0834 - val_accuracy: 0.9753\n",
            "Epoch 5/15\n",
            "47/47 [==============================] - 0s 8ms/step - loss: 0.0431 - accuracy: 0.9874 - val_loss: 0.0832 - val_accuracy: 0.9753\n",
            "Epoch 6/15\n",
            "47/47 [==============================] - 0s 8ms/step - loss: 0.0414 - accuracy: 0.9879 - val_loss: 0.0827 - val_accuracy: 0.9750\n",
            "Epoch 7/15\n",
            "47/47 [==============================] - 0s 8ms/step - loss: 0.0397 - accuracy: 0.9887 - val_loss: 0.0821 - val_accuracy: 0.9757\n",
            "Epoch 8/15\n",
            "47/47 [==============================] - 0s 8ms/step - loss: 0.0384 - accuracy: 0.9892 - val_loss: 0.0820 - val_accuracy: 0.9758\n",
            "Epoch 9/15\n",
            "47/47 [==============================] - 0s 8ms/step - loss: 0.0372 - accuracy: 0.9894 - val_loss: 0.0824 - val_accuracy: 0.9757\n",
            "Epoch 10/15\n",
            "47/47 [==============================] - 0s 9ms/step - loss: 0.0359 - accuracy: 0.9897 - val_loss: 0.0813 - val_accuracy: 0.9758\n",
            "Epoch 11/15\n",
            "47/47 [==============================] - 0s 9ms/step - loss: 0.0348 - accuracy: 0.9903 - val_loss: 0.0813 - val_accuracy: 0.9762\n",
            "Epoch 12/15\n",
            "47/47 [==============================] - 0s 8ms/step - loss: 0.0337 - accuracy: 0.9906 - val_loss: 0.0811 - val_accuracy: 0.9760\n",
            "Epoch 13/15\n",
            "47/47 [==============================] - 0s 8ms/step - loss: 0.0327 - accuracy: 0.9909 - val_loss: 0.0815 - val_accuracy: 0.9762\n",
            "Epoch 14/15\n",
            "47/47 [==============================] - 0s 8ms/step - loss: 0.0317 - accuracy: 0.9913 - val_loss: 0.0811 - val_accuracy: 0.9765\n",
            "Epoch 15/15\n",
            "47/47 [==============================] - 0s 8ms/step - loss: 0.0307 - accuracy: 0.9918 - val_loss: 0.0818 - val_accuracy: 0.9757\n",
            "313/313 [==============================] - 1s 4ms/step - loss: 0.0762 - accuracy: 0.9781\n",
            "[7 2 1 0 4]\n",
            "[7 2 1 0 4]\n"
          ]
        }
      ]
    },
    {
      "cell_type": "markdown",
      "metadata": {
        "id": "Ckh_q63TvAja"
      },
      "source": [
        "Посмотрим на возвращаемый словарь hh.history (там результаты по эпохам для потерь и метрик по обучению и тестам)"
      ]
    },
    {
      "cell_type": "code",
      "metadata": {
        "colab": {
          "base_uri": "https://localhost:8080/"
        },
        "id": "myewLXE4KTZ6",
        "outputId": "a597a171-0c37-4c32-d758-a6c88ec75f23"
      },
      "source": [
        "hh.history"
      ],
      "execution_count": 32,
      "outputs": [
        {
          "output_type": "execute_result",
          "data": {
            "text/plain": [
              "{'accuracy': [0.9775833487510681,\n",
              "  0.9844791889190674,\n",
              "  0.9855833053588867,\n",
              "  0.9868958592414856,\n",
              "  0.9873541593551636,\n",
              "  0.9878749847412109,\n",
              "  0.9887083172798157,\n",
              "  0.9891666769981384,\n",
              "  0.9893749952316284,\n",
              "  0.9897291660308838,\n",
              "  0.9902708530426025,\n",
              "  0.9906250238418579,\n",
              "  0.9909166693687439,\n",
              "  0.9913333058357239,\n",
              "  0.9917500019073486],\n",
              " 'loss': [0.07237476855516434,\n",
              "  0.05186395347118378,\n",
              "  0.047834593802690506,\n",
              "  0.0450211726129055,\n",
              "  0.04313776642084122,\n",
              "  0.041434772312641144,\n",
              "  0.0397363118827343,\n",
              "  0.038427673280239105,\n",
              "  0.03715698421001434,\n",
              "  0.035897910594940186,\n",
              "  0.03484627231955528,\n",
              "  0.03374689072370529,\n",
              "  0.03272787854075432,\n",
              "  0.03165130317211151,\n",
              "  0.030682673677802086],\n",
              " 'val_accuracy': [0.9735000133514404,\n",
              "  0.9751666784286499,\n",
              "  0.9753333330154419,\n",
              "  0.9752500057220459,\n",
              "  0.9752500057220459,\n",
              "  0.9750000238418579,\n",
              "  0.9756666421890259,\n",
              "  0.9758333563804626,\n",
              "  0.9756666421890259,\n",
              "  0.9758333563804626,\n",
              "  0.9762499928474426,\n",
              "  0.9760000109672546,\n",
              "  0.9762499928474426,\n",
              "  0.9764999747276306,\n",
              "  0.9756666421890259],\n",
              " 'val_loss': [0.09032420814037323,\n",
              "  0.08568418025970459,\n",
              "  0.0848742201924324,\n",
              "  0.08339852839708328,\n",
              "  0.08323734998703003,\n",
              "  0.08266196399927139,\n",
              "  0.08212883770465851,\n",
              "  0.08201464265584946,\n",
              "  0.08237521350383759,\n",
              "  0.0813078060746193,\n",
              "  0.08126772195100784,\n",
              "  0.0811084732413292,\n",
              "  0.08151409775018692,\n",
              "  0.08111178874969482,\n",
              "  0.08182412385940552]}"
            ]
          },
          "metadata": {},
          "execution_count": 32
        }
      ]
    },
    {
      "cell_type": "markdown",
      "metadata": {
        "id": "lJpjFH7hVw8Q"
      },
      "source": [
        "Покажем как выглядит кривая обучения"
      ]
    },
    {
      "cell_type": "code",
      "metadata": {
        "colab": {
          "base_uri": "https://localhost:8080/",
          "height": 458
        },
        "id": "5fBO1Yh2PyIK",
        "outputId": "999b7139-8be4-4868-bc9c-cd8b2e46977d"
      },
      "source": [
        "plt.figure(figsize=(15,7))\n",
        "plt.plot(hh.history['loss'], label = 'потери для тренировки')\n",
        "plt.plot(hh.history['val_loss'], label = 'потери для валидации')\n",
        "plt.xlabel('эпох')\n",
        "plt.ylabel('loss')\n",
        "plt.legend()\n",
        "plt.grid('On')\n",
        "plt.title('потери от эпох')\n",
        "plt.show()\n"
      ],
      "execution_count": 33,
      "outputs": [
        {
          "output_type": "display_data",
          "data": {
            "image/png": "[encoded data removed]",
            "text/plain": [
              "<Figure size 1080x504 with 1 Axes>"
            ]
          },
          "metadata": {
            "needs_background": "light"
          }
        }
      ]
    },
    {
      "cell_type": "code",
      "metadata": {
        "colab": {
          "base_uri": "https://localhost:8080/"
        },
        "id": "6qh30hSNwohn",
        "outputId": "dfefd416-f99b-4a4e-956a-1c1a1e5543ec"
      },
      "source": [
        "hh.history"
      ],
      "execution_count": 34,
      "outputs": [
        {
          "output_type": "execute_result",
          "data": {
            "text/plain": [
              "{'accuracy': [0.9775833487510681,\n",
              "  0.9844791889190674,\n",
              "  0.9855833053588867,\n",
              "  0.9868958592414856,\n",
              "  0.9873541593551636,\n",
              "  0.9878749847412109,\n",
              "  0.9887083172798157,\n",
              "  0.9891666769981384,\n",
              "  0.9893749952316284,\n",
              "  0.9897291660308838,\n",
              "  0.9902708530426025,\n",
              "  0.9906250238418579,\n",
              "  0.9909166693687439,\n",
              "  0.9913333058357239,\n",
              "  0.9917500019073486],\n",
              " 'loss': [0.07237476855516434,\n",
              "  0.05186395347118378,\n",
              "  0.047834593802690506,\n",
              "  0.0450211726129055,\n",
              "  0.04313776642084122,\n",
              "  0.041434772312641144,\n",
              "  0.0397363118827343,\n",
              "  0.038427673280239105,\n",
              "  0.03715698421001434,\n",
              "  0.035897910594940186,\n",
              "  0.03484627231955528,\n",
              "  0.03374689072370529,\n",
              "  0.03272787854075432,\n",
              "  0.03165130317211151,\n",
              "  0.030682673677802086],\n",
              " 'val_accuracy': [0.9735000133514404,\n",
              "  0.9751666784286499,\n",
              "  0.9753333330154419,\n",
              "  0.9752500057220459,\n",
              "  0.9752500057220459,\n",
              "  0.9750000238418579,\n",
              "  0.9756666421890259,\n",
              "  0.9758333563804626,\n",
              "  0.9756666421890259,\n",
              "  0.9758333563804626,\n",
              "  0.9762499928474426,\n",
              "  0.9760000109672546,\n",
              "  0.9762499928474426,\n",
              "  0.9764999747276306,\n",
              "  0.9756666421890259],\n",
              " 'val_loss': [0.09032420814037323,\n",
              "  0.08568418025970459,\n",
              "  0.0848742201924324,\n",
              "  0.08339852839708328,\n",
              "  0.08323734998703003,\n",
              "  0.08266196399927139,\n",
              "  0.08212883770465851,\n",
              "  0.08201464265584946,\n",
              "  0.08237521350383759,\n",
              "  0.0813078060746193,\n",
              "  0.08126772195100784,\n",
              "  0.0811084732413292,\n",
              "  0.08151409775018692,\n",
              "  0.08111178874969482,\n",
              "  0.08182412385940552]}"
            ]
          },
          "metadata": {},
          "execution_count": 34
        }
      ]
    },
    {
      "cell_type": "markdown",
      "metadata": {
        "id": "a8zh5g-GBQIp"
      },
      "source": [
        "Эксперимент с разными оптимизаторами для одной начальной модели:\n",
        "\n",
        "  - создаем модель model\n",
        "  - сохраняем ее веса (это начальная точка) model.save_weights('model.h5')\n",
        "  - создаем рабочую модель modeli куда будем загружать эти вес (она должна быть идентичной структуры) \n",
        "  - загружаем веса modeli.load_weights('model.h5')\n",
        "  - компилируем modeli с одним из оптимизаторов\n",
        "  - вычисляем ошибку для modeli без обучения (т.к. все модели начинают с одной точки, то все ошибки должны быть одинаковые, но будем контролировать это и считаем каждый раз заново)\n",
        "  - проводим обучение модели и пишем ошибки в истории hh\n",
        "  - выводим ошибки для 0-го момента и каждой эпохи обучения по тестовой и валидационной частям данных\n",
        "\n",
        "\n",
        "\n",
        "Оптимизаторы:\n",
        "* SGD() (с или без моментум)\n",
        "* RMSprop()\n",
        "* Adam()\n",
        "* Adagrad()\n",
        "…\n"
      ]
    },
    {
      "cell_type": "code",
      "metadata": {
        "colab": {
          "base_uri": "https://localhost:8080/",
          "height": 458
        },
        "id": "jaqCLGg3w_Nl",
        "outputId": "b9e4fe25-e2a3-4117-bef5-8400ab366325"
      },
      "source": [
        "# создаем модель model\n",
        "model = Sequential([\n",
        "                      Dense( 64, activation='relu', input_shape=(784,)),\n",
        "                      Dense(64, activation='tanh'),\n",
        "                      Dense(10, activation='softmax'),\n",
        "                      ])\n",
        "# сохраняем ее веса (это начальная точка) model.save_weights('model.h5')\n",
        "model.save_weights('model.h5')\n",
        "\n",
        "plt.figure(figsize=(16,7))\n",
        "\n",
        "# число рабочих эпох\n",
        "epochs = 15\n",
        "# вектор для выводв результатов\n",
        "epoch = np.arange(epochs+1)\n",
        "\n",
        "# будем изменять оптимизаторы\n",
        "\n",
        "#opt_list = [keras.optimizers.SGD( ),keras.optimizers.Adam( ),keras.optimizers.Nadam( )]\n",
        "for i_optim in ['SGD','RMSProp','adam','NAdam']:\n",
        "  # создаем рабочую модель modeli куда будем загружать эти вес (она должна быть идентичной структуры)\n",
        "  modeli = Sequential([\n",
        "                      Dense(64, activation='relu', input_shape=(784,)),\n",
        "                      Dense(64, activation='tanh'),\n",
        "                      Dense(10, activation='softmax'),\n",
        "                      ])\n",
        "  # загружаем веса modeli.load_weights('model.h5')\n",
        "  modeli.load_weights('model.h5')\n",
        "  # компилируем modeli с одним из оптимизаторов\n",
        "  modeli.compile(\n",
        "      optimizer=i_optim,\n",
        "      loss='categorical_crossentropy',\n",
        "      metrics=['accuracy'],\n",
        "      )\n",
        "  # вычисляем ошибку для modeli без обучения\n",
        "  hh0_tr = modeli.evaluate(  train_images[:48000,:], to_categorical(train_labels[:48000]),verbose = 0)\n",
        "  hh0_val = modeli.evaluate(  train_images[48000:,:], to_categorical(train_labels[48000:]),verbose = 0)\n",
        "  # проводим обучение модели \n",
        "  hh = modeli.fit(\n",
        "                  train_images,\n",
        "                  to_categorical(train_labels),\n",
        "                  epochs=epochs,\n",
        "                  batch_size=32, validation_split=0.2, verbose = 0\n",
        "                  )\n",
        "  # картинки\n",
        "  plt.plot(epoch,np.log([hh0_tr[0]]+hh.history['loss']),'-',label = modeli.optimizer.get_config()['name']+' train')\n",
        "  plt.plot(epoch,np.log([hh0_val[0]]+hh.history['val_loss']),'--',label = modeli.optimizer.get_config()['name']+' val')\n",
        "plt.legend()\n",
        "plt.grid('On')\n",
        "\n",
        "plt.title('нейросети от оптимизатора log(loss)')\n",
        "plt.xlabel('epoch')\n",
        "plt.ylabel('log(loss)')\n",
        "plt.show()\n"
      ],
      "execution_count": 35,
      "outputs": [
        {
          "output_type": "display_data",
          "data": {
            "image/png": "[encoded data removed]",
            "text/plain": [
              "<Figure size 1152x504 with 1 Axes>"
            ]
          },
          "metadata": {
            "needs_background": "light"
          }
        }
      ]
    },
    {
      "cell_type": "code",
      "metadata": {
        "colab": {
          "base_uri": "https://localhost:8080/"
        },
        "id": "viS_E5s6z2UU",
        "outputId": "84d93e5d-7dc1-417e-89a8-8c07aa83ec7a"
      },
      "source": [
        " modeli.optimizer.get_config()"
      ],
      "execution_count": 36,
      "outputs": [
        {
          "output_type": "execute_result",
          "data": {
            "text/plain": [
              "{'beta_1': 0.9,\n",
              " 'beta_2': 0.999,\n",
              " 'decay': 0.004,\n",
              " 'epsilon': 1e-07,\n",
              " 'learning_rate': 0.001,\n",
              " 'name': 'Nadam'}"
            ]
          },
          "metadata": {},
          "execution_count": 36
        }
      ]
    },
    {
      "cell_type": "markdown",
      "metadata": {
        "id": "eUVhmimFvp-k"
      },
      "source": [
        "Посмотрим на результат предсказаний  (inference) для обученной модели (последняя в цикле)"
      ]
    },
    {
      "cell_type": "code",
      "metadata": {
        "colab": {
          "base_uri": "https://localhost:8080/",
          "height": 137
        },
        "id": "wj7fhqd3FKFe",
        "outputId": "7766e1ed-dad9-4b70-fc1c-4a9bdf027971"
      },
      "source": [
        "N = 9\n",
        "y_pred = model1.predict(test_images[:N,:])\n",
        "y_pred_class = np.argmax(y_pred,axis=1)\n",
        "plt.figure(figsize =(3*N,5))\n",
        "for i in range(N):\n",
        "  plt.subplot(1,N,i+1)\n",
        "  plt.imshow(test_images[i,:].reshape(28,28))\n",
        "  plt.xlabel(str(y_pred_class[i]))\n",
        "plt.show()  "
      ],
      "execution_count": 37,
      "outputs": [
        {
          "output_type": "display_data",
          "data": {
            "image/png": "[encoded data removed]",
            "text/plain": [
              "<Figure size 1944x360 with 9 Axes>"
            ]
          },
          "metadata": {
            "needs_background": "light"
          }
        }
      ]
    },
    {
      "cell_type": "code",
      "metadata": {
        "colab": {
          "base_uri": "https://localhost:8080/"
        },
        "id": "Q561c6eaGxcB",
        "outputId": "cba0de8b-096e-4631-c9bc-12d10b0269ef"
      },
      "source": [
        "y_pred_class"
      ],
      "execution_count": 38,
      "outputs": [
        {
          "output_type": "execute_result",
          "data": {
            "text/plain": [
              "array([7, 2, 1, 0, 4, 1, 4, 9, 6])"
            ]
          },
          "metadata": {},
          "execution_count": 38
        }
      ]
    },
    {
      "cell_type": "markdown",
      "metadata": {
        "id": "ws3OtgYMfpXI"
      },
      "source": [
        "Вариант синтаксиса:"
      ]
    },
    {
      "cell_type": "code",
      "metadata": {
        "colab": {
          "base_uri": "https://localhost:8080/"
        },
        "id": "IvO2kuDRerfX",
        "outputId": "c8085f87-d588-48ec-bc8d-f4fdb6cec621"
      },
      "source": [
        "y_predi = model1(test_images[:,:])\n",
        "np.argmax(y_predi,axis=1)"
      ],
      "execution_count": 39,
      "outputs": [
        {
          "output_type": "execute_result",
          "data": {
            "text/plain": [
              "array([7, 2, 1, ..., 4, 5, 6])"
            ]
          },
          "metadata": {},
          "execution_count": 39
        }
      ]
    },
    {
      "cell_type": "markdown",
      "source": [
        "Где ошиблись?"
      ],
      "metadata": {
        "id": "5yqdlhIxo3UB"
      }
    },
    {
      "cell_type": "code",
      "metadata": {
        "colab": {
          "base_uri": "https://localhost:8080/"
        },
        "id": "EREg7l6YUK7P",
        "outputId": "0fc2709f-852c-4cbb-f67a-123f8ed6d81b"
      },
      "source": [
        "yy = np.argmax(y_predi,axis=1)\n",
        "np.where(testn_labels != yy)[0]"
      ],
      "execution_count": 41,
      "outputs": [
        {
          "output_type": "execute_result",
          "data": {
            "text/plain": [
              "array([   8,  115,  247,  257,  259,  321,  340,  432,  445,  449,  495,\n",
              "        582,  659,  684,  691,  720,  740,  760,  877,  900,  924,  938,\n",
              "        951, 1014, 1032, 1044, 1107, 1112, 1182, 1226, 1232, 1247, 1260,\n",
              "       1289, 1299, 1319, 1328, 1378, 1393, 1414, 1494, 1500, 1522, 1530,\n",
              "       1549, 1601, 1609, 1671, 1681, 1709, 1737, 1754, 1790, 1850, 1878,\n",
              "       1901, 1911, 1913, 1941, 1984, 2016, 2024, 2035, 2043, 2044, 2053,\n",
              "       2070, 2098, 2109, 2118, 2130, 2135, 2182, 2185, 2272, 2293, 2371,\n",
              "       2387, 2488, 2607, 2648, 2654, 2720, 2877, 2896, 2927, 2939, 2953,\n",
              "       3023, 3030, 3060, 3117, 3206, 3289, 3333, 3422, 3451, 3475, 3503,\n",
              "       3533, 3558, 3559, 3597, 3681, 3718, 3776, 3780, 3808, 3811, 3818,\n",
              "       3838, 3853, 3862, 3893, 3906, 3941, 3946, 3976, 3985, 4065, 4075,\n",
              "       4078, 4140, 4163, 4176, 4205, 4224, 4248, 4289, 4344, 4369, 4425,\n",
              "       4497, 4521, 4536, 4571, 4601, 4615, 4635, 4690, 4731, 4807, 4814,\n",
              "       4823, 4880, 4890, 4956, 4966, 4978, 5140, 5165, 5331, 5457, 5600,\n",
              "       5634, 5642, 5676, 5734, 5842, 5887, 5936, 5937, 5955, 5973, 6011,\n",
              "       6030, 6035, 6045, 6059, 6166, 6172, 6505, 6555, 6571, 6572, 6597,\n",
              "       6632, 6651, 6706, 6755, 6783, 6926, 7208, 7216, 7259, 7797, 8062,\n",
              "       8094, 8246, 8255, 8325, 8383, 8520, 8522, 9009, 9015, 9019, 9024,\n",
              "       9280, 9513, 9587, 9634, 9642, 9664, 9669, 9679, 9698, 9729, 9745,\n",
              "       9749, 9768, 9770, 9779, 9808, 9858, 9888, 9944, 9980, 9982])"
            ]
          },
          "metadata": {},
          "execution_count": 41
        }
      ]
    },
    {
      "cell_type": "markdown",
      "metadata": {
        "id": "NRSQbmXD9U98"
      },
      "source": [
        "## Практическое задание\n",
        "\n",
        "Используем набор примеров fashion-MNIST\n",
        "\n",
        "1.  Опишите - какой результата получен в нейросети в зависимости от:\n",
        "  -  числа нейронов в слое(для 2-хслойной сети), \n",
        "  - числа слоев (2, 3, 5, 10) при близких размерах сети (близкое число тренируемых парметров).\n",
        "  - фиксируйте для тренировочного и тестового набора метрики accuracy.\n",
        "2.  Проверьте работу разных оптимизаторов (SGD, Adam, RMSProp) для одной из моделей п.1.Фиксируйте для тренировочного и тестового набора метрики accuracy.\n",
        "\n",
        "3. Сделайте вывод - что помогло вам улучшить качество классификации в нейросети на тестовом наборе? \n",
        "\n",
        "4. Для одного варианта сетей сформируйте матрицу ошибок по классам. Оцените качество модели по каждому классу отдельно (полнота , точность). Сделайте вывод."
      ]
    },
    {
      "cell_type": "markdown",
      "metadata": {
        "id": "HN8DNX38v4JC"
      },
      "source": [
        "Загрузка Fashion_MNIST"
      ]
    },
    {
      "cell_type": "code",
      "metadata": {
        "id": "lzui-f-AMxXM"
      },
      "source": [
        "from keras.datasets import fashion_mnist\n"
      ],
      "execution_count": 45,
      "outputs": []
    },
    {
      "cell_type": "code",
      "metadata": {
        "id": "cnrrzpi6NBLV",
        "colab": {
          "base_uri": "https://localhost:8080/"
        },
        "outputId": "00a85224-5119-46e1-ce68-8ea774218b46"
      },
      "source": [
        "(train_imagef,train_labelf),(test_imagef,test_labelf)=fashion_mnist.load_data()"
      ],
      "execution_count": 46,
      "outputs": [
        {
          "output_type": "stream",
          "name": "stdout",
          "text": [
            "Downloading data from https://storage.googleapis.com/tensorflow/tf-keras-datasets/train-labels-idx1-ubyte.gz\n",
            "32768/29515 [=================================] - 0s 0us/step\n",
            "40960/29515 [=========================================] - 0s 0us/step\n",
            "Downloading data from https://storage.googleapis.com/tensorflow/tf-keras-datasets/train-images-idx3-ubyte.gz\n",
            "26427392/26421880 [==============================] - 0s 0us/step\n",
            "26435584/26421880 [==============================] - 0s 0us/step\n",
            "Downloading data from https://storage.googleapis.com/tensorflow/tf-keras-datasets/t10k-labels-idx1-ubyte.gz\n",
            "16384/5148 [===============================================================================================] - 0s 0us/step\n",
            "Downloading data from https://storage.googleapis.com/tensorflow/tf-keras-datasets/t10k-images-idx3-ubyte.gz\n",
            "4423680/4422102 [==============================] - 0s 0us/step\n",
            "4431872/4422102 [==============================] - 0s 0us/step\n"
          ]
        }
      ]
    },
    {
      "cell_type": "code",
      "metadata": {
        "colab": {
          "base_uri": "https://localhost:8080/"
        },
        "id": "8x1GhqsXpixY",
        "outputId": "a584c5cf-80cd-4371-9a2c-9bd9e0c0ff89"
      },
      "source": [
        "ind=np.where(train_labelf==2)[0]\n",
        "ind"
      ],
      "execution_count": 47,
      "outputs": [
        {
          "output_type": "execute_result",
          "data": {
            "text/plain": [
              "array([    5,     7,    27, ..., 59977, 59981, 59993])"
            ]
          },
          "metadata": {},
          "execution_count": 47
        }
      ]
    },
    {
      "cell_type": "code",
      "metadata": {
        "colab": {
          "base_uri": "https://localhost:8080/",
          "height": 265
        },
        "id": "HgkWr0rjE47r",
        "outputId": "f15b0dd1-5efc-4da6-bfd4-9bd55edec90b"
      },
      "source": [
        "#plt.gray()\n",
        "plt.imshow(train_imagef[5,:,:])\n",
        "plt.show()"
      ],
      "execution_count": 48,
      "outputs": [
        {
          "output_type": "display_data",
          "data": {
            "image/png": "[encoded data removed]",
            "text/plain": [
              "<Figure size 432x288 with 1 Axes>"
            ]
          },
          "metadata": {
            "needs_background": "light"
          }
        }
      ]
    },
    {
      "cell_type": "markdown",
      "metadata": {
        "id": "m2wW13WB9U99"
      },
      "source": [
        "## Дополнительные материалы\n",
        "\n",
        "<ol>\n",
        "    <li> https://keras.io/</li>\n",
        "    <li> https://playground.tensorflow.org/ - визуализация сетей \n",
        "</ol>"
      ]
    },
    {
      "cell_type": "markdown",
      "metadata": {
        "id": "v6h1K5ET9U9_"
      },
      "source": [
        "## Используемая литература \n",
        "\n",
        "Для подготовки данного методического пособия были использованы следующие ресурсы:\n",
        "<ol>\n",
        "    <li>https://keras.io/</li>\n",
        "    <li>Шакла Н. — Машинное обучение и TensorFlow 2019</li>\n",
        "    <li>Саймон Хайкин — Нейронные сети: полный курс</li>\n",
        "    <li>Википедия</li>\n",
        "    \n",
        "</ol>"
      ]
    }
  ]
}